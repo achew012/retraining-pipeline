{
 "cells": [
  {
   "cell_type": "code",
   "execution_count": 1,
   "id": "37361504",
   "metadata": {},
   "outputs": [],
   "source": [
    "from clearml import Task, StorageManager, Dataset\n",
    "import sys, json, os, jsonlines, ipdb"
   ]
  },
  {
   "cell_type": "code",
   "execution_count": 13,
   "id": "3c985976",
   "metadata": {},
   "outputs": [],
   "source": [
    "class dataset_git:\n",
    "    @staticmethod\n",
    "    def create_root(dataset_name, dataset_project):\n",
    "        dataset = Dataset.create(dataset_name=dataset_name, dataset_project=dataset_project, dataset_tags=[\"original\"], parent_datasets=None, use_current_task=False)\n",
    "        default_storage = dataset.get_default_storage()\n",
    "        dataset.add_files(\"upload\", wildcard=\"*.jsonl\", local_base_folder=\".\", dataset_path=\".\", recursive=True, verbose=False)\n",
    "        dataset.upload(output_url=default_storage)\n",
    "        dataset.finalize()\n",
    "        dataset.publish()\n",
    "\n",
    "    def __init__(self, pull_dataset_project:str):\n",
    "        self.pull_dataset_project = pull_dataset_project\n",
    "        self.version_ids = [version[\"id\"] for version in Dataset.list_datasets([self.pull_dataset_project], only_completed=True)]            \n",
    "        self.latest_dataset = Dataset.get(dataset_id=self.version_ids[-1])\n",
    "        self.default_storage = self.latest_dataset.get_default_storage()\n",
    "        \n",
    "    def get_current_version_id(self):\n",
    "        return self.latest_dataset.id\n",
    "    \n",
    "    def get_parent(self):\n",
    "        dependency = self.latest_dataset.get_dependency_graph()\n",
    "        return dependency[self.latest_dataset.id]\n",
    "\n",
    "    def get_latest_dataset(self, target_folder_path):\n",
    "        '''\n",
    "        returns a local path of a dataset copy\n",
    "        '''\n",
    "        return self.latest_dataset.get_mutable_local_copy(target_folder_path)\n",
    "    \n",
    "    def sync_folder2dataset(self, local_data_path:str):\n",
    "        new_dataset = Dataset.create(dataset_name=\"child_of_\"+self.latest_dataset.id, dataset_project=self.pull_dataset_project, parent_datasets=[self.latest_dataset.id])\n",
    "        modifications=self.latest_dataset.verify_dataset_hash(local_copy_path=local_data_path)\n",
    "        print(\"Files modified: {}\".format(modifications))\n",
    "        if len(modifications)>0:\n",
    "            print(\"Syncing files...\")\n",
    "            new_dataset.sync_folder(local_data_path, verbose=False)\n",
    "            new_dataset.upload(output_url=self.default_storage)\n",
    "            new_dataset.finalize()\n",
    "            self.latest_dataset = new_dataset\n",
    "            self.version_ids = [version[\"id\"] for version in Dataset.list_datasets([self.pull_dataset_project], only_completed=True)]\n",
    "            print(\"Success! Files synced and updated.\")\n",
    "        else:\n",
    "            print(\"No files to update\")\n",
    "                           "
   ]
  },
  {
   "cell_type": "code",
   "execution_count": 14,
   "id": "89adbd29",
   "metadata": {},
   "outputs": [],
   "source": [
    "git = dataset_git(\"datasets/test\")"
   ]
  },
  {
   "cell_type": "code",
   "execution_count": 4,
   "id": "0533e567",
   "metadata": {},
   "outputs": [
    {
     "data": {
      "text/plain": [
       "'31ea90118187499a9c6c61a3e9a7bc1d'"
      ]
     },
     "execution_count": 4,
     "metadata": {},
     "output_type": "execute_result"
    }
   ],
   "source": [
    "git.get_current_version_id()"
   ]
  },
  {
   "cell_type": "code",
   "execution_count": 5,
   "id": "338662bf",
   "metadata": {},
   "outputs": [
    {
     "data": {
      "text/plain": [
       "[]"
      ]
     },
     "execution_count": 5,
     "metadata": {},
     "output_type": "execute_result"
    }
   ],
   "source": [
    "git.get_parent()"
   ]
  },
  {
   "cell_type": "code",
   "execution_count": 6,
   "id": "935f3ead",
   "metadata": {},
   "outputs": [
    {
     "data": {
      "text/plain": [
       "['31ea90118187499a9c6c61a3e9a7bc1d']"
      ]
     },
     "execution_count": 6,
     "metadata": {},
     "output_type": "execute_result"
    }
   ],
   "source": [
    "git.version_ids"
   ]
  },
  {
   "cell_type": "code",
   "execution_count": 9,
   "id": "2136a504",
   "metadata": {},
   "outputs": [],
   "source": [
    "folder_path = git.get_latest_dataset(\"./temp\")\n",
    "\n",
    "def load_jsonl(load_path:str):\n",
    "    data = []\n",
    "    with open(load_path, 'r') as file:\n",
    "        for doc in file:\n",
    "            data.append(json.loads(doc))\n",
    "    return data\n",
    "\n",
    "def to_jsonl(filename:str, file_obj):\n",
    "    resultfile = open(filename, 'wb')\n",
    "    writer = jsonlines.Writer(resultfile)\n",
    "    writer.write_all(file_obj) \n",
    "\n",
    "train_file = os.path.join(folder_path, \"data/upload\", \"train.jsonl\")\n",
    "train_data = load_jsonl(train_file)[:5]\n",
    "to_jsonl(train_file, train_data)"
   ]
  },
  {
   "cell_type": "code",
   "execution_count": 15,
   "id": "ac826d32",
   "metadata": {},
   "outputs": [
    {
     "name": "stdout",
     "output_type": "stream",
     "text": [
      "Files modified: ['data/upload/train.jsonl']\n",
      "Syncing files...\n",
      "Generating SHA2 hash for 3 files\n"
     ]
    },
    {
     "name": "stderr",
     "output_type": "stream",
     "text": [
      "100%|██████████████████████████████████████████████████████████████████████████████████████████████████████████████████| 3/3 [00:00<00:00, 7045.30it/s]"
     ]
    },
    {
     "name": "stdout",
     "output_type": "stream",
     "text": [
      "Hash generation completed\n",
      "Uploading compressed dataset changes (1 files, total 9.09 KB) to http://experiment.sytes.net:8081\n"
     ]
    },
    {
     "name": "stderr",
     "output_type": "stream",
     "text": [
      "\n"
     ]
    },
    {
     "name": "stdout",
     "output_type": "stream",
     "text": [
      "Upload completed (9.09 KB)\n",
      "2021-11-18 02:36:34,248 - clearml.Task - INFO - Waiting to finish uploads\n",
      "2021-11-18 02:36:34,285 - clearml.Task - INFO - Finished uploading\n",
      "Success! Files synced and updated.\n"
     ]
    }
   ],
   "source": [
    "git.sync_folder2dataset(\"temp\")"
   ]
  },
  {
   "cell_type": "code",
   "execution_count": null,
   "id": "769706ca",
   "metadata": {},
   "outputs": [],
   "source": []
  }
 ],
 "metadata": {
  "kernelspec": {
   "display_name": "Python 3 (ipykernel)",
   "language": "python",
   "name": "python3"
  },
  "language_info": {
   "codemirror_mode": {
    "name": "ipython",
    "version": 3
   },
   "file_extension": ".py",
   "mimetype": "text/x-python",
   "name": "python",
   "nbconvert_exporter": "python",
   "pygments_lexer": "ipython3",
   "version": "3.7.8"
  }
 },
 "nbformat": 4,
 "nbformat_minor": 5
}
